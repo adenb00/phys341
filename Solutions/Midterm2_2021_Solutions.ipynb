{
 "cells": [
  {
   "cell_type": "code",
   "execution_count": 2,
   "metadata": {},
   "outputs": [],
   "source": [
    "import numpy as np\n",
    "import scipy.stats as stats\n",
    "import matplotlib.pyplot as plt\n",
    "import pandas as pd\n",
    "from scipy.special import gamma\n",
    "\n",
    "def create_df(a,n,x_settings,data_values):\n",
    "    id_list = [[0 for i in range(n)] for j in range(a)]\n",
    "    for i in range(a):\n",
    "        id_list[i] = x_settings[i]*np.ones(n)\n",
    "    id = np.concatenate([id_list[i] for i in range(a)])\n",
    "    data2 = np.transpose(np.vstack((data_values,id)))\n",
    "    df = pd.DataFrame(data2,columns=['value','treatment'])\n",
    "    \n",
    "    return df\n",
    "\n",
    "def create_ybar(a,n,data_values):\n",
    "    ybar = [0 for i in range(a)]\n",
    "    for i in range(a):\n",
    "        ybar[i] = data_values[i*n:i*n+n].mean()\n",
    "    print(\"ybar vector = \",ybar)\n",
    "    return ybar\n",
    "\n",
    "def brash_plot(a,n,x_settings,ybar,sembar,df):\n",
    "    plt.errorbar(x_settings,ybar,yerr=sembar,fmt='o')\n",
    "    plt.plot(df['treatment'],df['value'],'.')\n",
    "\n",
    "    ybarbar = df['value'].mean()\n",
    "    print(\"ybarbar = \",ybarbar)\n",
    "    ynoeffect = [ybarbar for i in range(a)]\n",
    "    plt.plot(x_settings,ynoeffect,'-')\n",
    "    plt.show()\n",
    "    return\n",
    "\n",
    "def brash_plot_summary(a,n,x_settings,ybar,sembar):\n",
    "    plt.errorbar(x_settings,ybar,yerr=sembar,fmt='o')\n",
    "\n",
    "    ybarbar = ybar.mean()\n",
    "    print(\"ybarbar = \",ybarbar)\n",
    "    ynoeffect = [ybarbar for i in range(a)]\n",
    "    plt.plot(x_settings,ynoeffect,'-')\n",
    "    plt.show()\n",
    "    return\n",
    "\n",
    "def q_tukey(k, v, alpha):\n",
    "\n",
    "    qarray = []\n",
    "    for k in range(2,k+1):\n",
    "        print (\"q_tukey: calculating k = \",k)\n",
    "\n",
    "        dq = 0.001\n",
    "        qd = np.array(np.arange(0.000,6.000,dq))\n",
    "\n",
    "        f = []\n",
    "        fs = []\n",
    "        found = False\n",
    "\n",
    "        for i in range(len(qd)):\n",
    "            q = qd[i]\n",
    "            prefactor = np.sqrt(2.0*np.pi)*k*(k-1)*v**(v/2.0)/(gamma(v/2.0)*2**(v/2.0-1))\n",
    "            npts = 100\n",
    "\n",
    "            xh = 6.0\n",
    "            xl = 0.0\n",
    "            dx = (xh-xl)/npts\n",
    "\n",
    "            x = np.arange(xl,xh,dx)\n",
    "            x = x.reshape(1,-1)\n",
    "    \n",
    "            ul = -6.0\n",
    "            uh = 6.0\n",
    "            du = (uh-ul)/npts\n",
    "            \n",
    "            u = np.arange(ul,uh,du)\n",
    "            u = u.reshape(-1,1)\n",
    "            \n",
    "            phi_u = stats.norm.pdf(u)\n",
    "            phi_ux = stats.norm.pdf(u-q*x)\n",
    "            Phi_u = stats.norm.cdf(u)\n",
    "            Phi_ux = stats.norm.cdf(u-q*x)\n",
    "            phi_x = stats.norm.pdf(np.sqrt(v)*x)\n",
    "            \n",
    "            integrand = x**v*phi_x*phi_u*phi_ux*(Phi_u-Phi_ux)**(k-2)*du*dx\n",
    "            \n",
    "            #print (\"U integral matrix\")\n",
    "            #print(u,phi_u,phi_ux,Phi_u,Phi_ux,phi_x,x**v,integrand)\n",
    "        \n",
    "            sumux = integrand.sum()\n",
    "            \n",
    "            #print (\"U sum\")\n",
    "            #print(sumux)\n",
    "            \n",
    "            #print (\"X sum * prefactor\")\n",
    "            #print (sumux*prefactor)\n",
    "\n",
    "            f.append(sumux*prefactor)\n",
    "            \n",
    "            if (i>0):\n",
    "                fs.append(f[i]*dq+fs[i-1])\n",
    "            else:\n",
    "                fs.append(f[i]*dq)\n",
    "\n",
    "            if (fs[i]>(1-alpha) and not(found)):\n",
    "                q_critical = qd[i-1] + ((1-alpha)-fs[i-1])*(qd[i]-qd[i-1])/(fs[i]-fs[i-1])\n",
    "                print (\"q_critical = \",q_critical)\n",
    "                found = True\n",
    "        \n",
    "            #print(q,f[i],fs[i])\n",
    "            \n",
    "        qarray.append(q_critical)\n",
    "        plt.scatter(q_critical,(1-alpha))\n",
    "    \n",
    "        f = np.array(f)\n",
    "        fs = np.array(fs)\n",
    "        plt.plot(qd,fs)\n",
    "\n",
    "    qarray=np.array(qarray)\n",
    "    return qarray\n",
    "\n",
    "def fpvalue(fvalue,dof1,dof2,test):\n",
    "    fdist = stats.f(dof1,dof2)\n",
    "\n",
    "    if (fvalue > 1):\n",
    "        if test == \"upper\":\n",
    "            pvalue = (1-fdist.cdf(fvalue))\n",
    "        if test == \"two\":\n",
    "            pvalue = 2.0*(1-fdist.cdf(fvalue))\n",
    "        if test == \"lower\":\n",
    "            pvalue = fdist.cdf(fvalue)\n",
    "    else:\n",
    "        if test == \"upper\":\n",
    "            pvalue = fdist.cdf(fvalue)\n",
    "        if test == \"two\":\n",
    "            pvalue = 2.0*fdist.cdf(fvalue)\n",
    "        if test == \"lower\":\n",
    "            pvalue = (1-fdist.cdf(fvalue))\n",
    "            \n",
    "    print (\"Pvalue = %0.3f\" % (pvalue))"
   ]
  },
  {
   "cell_type": "markdown",
   "metadata": {},
   "source": [
    "# Question 1\n",
    "\n",
    "As the population ages, there is increasing concern about accident-related injuries to the elderly. An article reported on an experiment in which the maximum lean angle—the furthest a subject is able to lean and still recover in one step—was determined for both a sample of younger females (21-29 years) and a sample of older females (67-81 years). The following observations are consistent with summary data given in the article.\n",
    "\n",
    "YF:\t32,\t29,\t31,\t26,\t29,\t36,\t29,\t27,\t35,\t26\n",
    "\n",
    "OF:\t17,\t13,\t21,\t22,\t22\n",
    "\n",
    "Carry out a test at significance level .10 to see whether the population standard deviations for the two age groups are different (normal probability plots support the necessary normality assumption). (Give answer accurate to 2 decimal places.)\n",
    "\n"
   ]
  },
  {
   "cell_type": "code",
   "execution_count": 5,
   "metadata": {},
   "outputs": [],
   "source": [
    "yf = np.array([31, 30, 26, 28, 35, 35, 26, 33, 31, 34])\n",
    "of = np.array([16, 17, 20, 17, 18])"
   ]
  },
  {
   "cell_type": "code",
   "execution_count": 6,
   "metadata": {},
   "outputs": [
    {
     "name": "stdout",
     "output_type": "stream",
     "text": [
      "Standard Deviations of the two samples = 3.4, 1.5\n",
      "Variances of the two samples = 11.7, 2.3\n",
      "F statistic = 5.068\n",
      "Critical F-values = 0.275, 5.999\n",
      "Fail to Reject\n",
      "Pvalue = 0.133\n",
      "Pvalue = 0.133\n"
     ]
    }
   ],
   "source": [
    "n1 = len(yf)\n",
    "n2 = len(of)\n",
    "\n",
    "dof1 = n1-1\n",
    "dof2 = n2-1\n",
    "\n",
    "s1 = yf.std(ddof=1)\n",
    "s2 = of.std(ddof=1)\n",
    "\n",
    "xbar1 = yf.mean()\n",
    "xbar2 = of.mean()\n",
    "\n",
    "fvalue = s1**2/s2**2\n",
    "\n",
    "print (\"Standard Deviations of the two samples = %.1f, %.1f\" %(s1,s2))\n",
    "print (\"Variances of the two samples = %.1f, %.1f\" %(s1**2,s2**2))\n",
    "print (\"F statistic = %0.3f\" % fvalue)\n",
    "\n",
    "alpha = 0.10\n",
    "\n",
    "fdist = stats.f(dof1,dof2)\n",
    "flow = fdist.ppf(alpha/2)\n",
    "fhigh = fdist.ppf(1-alpha/2)\n",
    "\n",
    "print (\"Critical F-values = %0.3f, %0.3f\" % (flow,fhigh))\n",
    "print (\"Fail to Reject\")\n",
    "\n",
    "if (fvalue > 1):\n",
    "    pvalue = 2.0*(1-fdist.cdf(fvalue))\n",
    "else:\n",
    "    pvalue = 2.0*fdist.cdf(fvalue)\n",
    "    \n",
    "print (\"Pvalue = %0.3f\" % (pvalue))\n",
    "\n",
    "pvalue = fpvalue(fvalue,dof1,dof2,\"two\")"
   ]
  },
  {
   "cell_type": "markdown",
   "metadata": {},
   "source": [
    "# Question 2\n",
    "\n",
    "In a study to assess the effects of malaria infection on mosquito hosts, mosquitos were fed on either infective or noninfective rhesus monkeys. Subsequently the distance they flew during a 24-hour period was measured using a flight mill. The mosquitos were divided into four groups of eight mosquitos each: infective rhesus and sporozites present (IRS), infective rhesus and oocysts present (IRD), infective rhesus and no infection developed (IRN), and noninfective (C). The summary data values are x1. = 4.28 (IRS), x2. = 4.81 (IRD), x3. = 5.39 (IRN), x4. = 5.88 (C), x.. = 5.09, ΣΣxij 2 = 955.6192. Use the ANOVA F test at level .05 to decide whether there are any differences between true average flight times for the four treatments. (Give answers accurate to 2 decimal places.)"
   ]
  },
  {
   "cell_type": "markdown",
   "metadata": {},
   "source": [
    "This question involves the use of summary statistics, which is very typically when looking at published papers. Rather than giving all of the raw data, they give the averages of each group, the number of groups and the number of samples within each group, and one extra quantity - $\\sum_i \\sum_j {x_{ij}^2}$.\n",
    "\n",
    "With these quantities, we can find all of the necessary quantities for carrying out \n",
    "a typical one-way ANOVA!\n",
    "\n",
    "$SS_{total} = \\sum_{i=1}^{a} \\sum_{j=1}^{n} {(x_{ij}-\\bar{\\bar{x}})^2}$\n",
    "\n",
    "\n",
    "$SS_{total} = \\sum_{i=1}^{a} \\sum_{j=1}^{n} {(x_{ij}^2-2x_{ij}\\bar{\\bar{x}} + \\bar{\\bar{x}}^2)}$\n",
    "\n",
    "$SS_{total} = \\sum_{i=1}^{a} \\sum_{j=1}^{n} {x_{ij}^2} -2\\bar{\\bar{x}}\\sum_{i=1}^{a} \\sum_{j=1}^{n} {x_{ij}} + \\bar{\\bar{x}}^2 \\sum_{i=1}^{a} \\sum_{j=1}^{n} {1}$\n",
    "\n",
    "From here, we know that:\n",
    "\n",
    "$\\sum_{i=1}^{a} \\sum_{j=1}^{n} {1} = N$\n",
    "\n",
    "and\n",
    "\n",
    "$\\sum_{j=1}^{n} {x_{ij}} = N \\bar{\\bar{x}}$\n",
    "\n",
    "and therefore:\n",
    "\n",
    "$SS_{total} = \\sum_{i=1}^{a} \\sum_{j=1}^{n} {x_{ij}^2} - N \\bar{\\bar{x}}^2$\n",
    "\n",
    "We also know that:\n",
    "\n",
    "$SS_{treatment} = \\sum_{i=1}^{a} n(\\bar{x}_i - \\bar{\\bar{x}})^2$\n",
    "\n",
    "and\n",
    "\n",
    "$SS_{error} = SS_{total} - SS_{treatment}$"
   ]
  },
  {
   "cell_type": "code",
   "execution_count": 8,
   "metadata": {},
   "outputs": [
    {
     "name": "stdout",
     "output_type": "stream",
     "text": [
      "F Signal/Noise = 6.43 \n",
      "Critical F-value = 2.95\n",
      "Pvalue = 0.002\n",
      "sqrt(MS_error) =  1.027695063166666\n"
     ]
    }
   ],
   "source": [
    "a = 4\n",
    "n = 8\n",
    "\n",
    "# calculate DOF's\n",
    "N = a*n\n",
    "dof_total = N - 1\n",
    "dof_treatment = a - 1\n",
    "dof_error = dof_total - dof_treatment\n",
    "\n",
    "# summary data for xbar\n",
    "xbar = np.array([4.39,4.52,5.49,6.36])\n",
    "xbarbar = xbar.mean()\n",
    "#xbarbar = 5.19\n",
    "\n",
    "# calculate SS_treatment\n",
    "SS_treatment = 0.0\n",
    "for x in xbar:\n",
    "    SS_treatment += n*(x-xbarbar)**2\n",
    "    \n",
    "# calculate SS_total and SS_error\n",
    "sumxij2 = 911.91\n",
    "SS_total = sumxij2-N*xbarbar**2\n",
    "SS_error = SS_total-SS_treatment\n",
    "\n",
    "# Proceed with normal ANOVA from here\n",
    "MS_treatment = SS_treatment/dof_treatment\n",
    "MS_error = SS_error/dof_error\n",
    "\n",
    "fSN = MS_treatment/MS_error\n",
    "\n",
    "print (\"F Signal/Noise = %0.2f \" % fSN)\n",
    "\n",
    "alpha = 0.05\n",
    "\n",
    "fdist = stats.f(dof_treatment,dof_error)\n",
    "fhigh = fdist.ppf(1-alpha)\n",
    "\n",
    "print (\"Critical F-value = %0.2f\" % (fhigh))\n",
    "\n",
    "if (fSN > 1):\n",
    "    pvalue = (1-fdist.cdf(fSN))\n",
    "else:\n",
    "    pvalue = fdist.cdf(fSN)\n",
    "    \n",
    "print (\"Pvalue = %0.3f\" % (pvalue))\n",
    "\n",
    "print (\"sqrt(MS_error) = \",np.sqrt(MS_error))"
   ]
  },
  {
   "cell_type": "code",
   "execution_count": 11,
   "metadata": {},
   "outputs": [
    {
     "name": "stdout",
     "output_type": "stream",
     "text": [
      "ybarbar =  5.19\n"
     ]
    },
    {
     "data": {
      "image/png": "[encoded data removed]",
      "text/plain": [
       "<Figure size 432x288 with 1 Axes>"
      ]
     },
     "metadata": {
      "needs_background": "light"
     },
     "output_type": "display_data"
    }
   ],
   "source": [
    "alpha = 0.05\n",
    "\n",
    "sem = np.sqrt(MS_error/n)\n",
    "x_settings = [1,2,3,4]\n",
    "brash_plot_summary(a,n,x_settings,xbar,2.0*sem)"
   ]
  },
  {
   "cell_type": "code",
   "execution_count": 10,
   "metadata": {},
   "outputs": [
    {
     "name": "stdout",
     "output_type": "stream",
     "text": [
      "Standard Error = 0.363\n",
      "Original Xbar =  [4.39 4.52 5.49 6.36]\n",
      "Sorted Xbar =  [4.39 4.52 5.49 6.36]\n",
      "q_tukey: calculating k =  2\n",
      "q_critical =  2.892607535763244\n",
      "q_tukey: calculating k =  3\n",
      "q_critical =  3.498760365644071\n",
      "q_tukey: calculating k =  4\n",
      "q_critical =  3.8607437361038883\n",
      "[2.89260754 3.49876037 3.86074374]\n",
      "W = 1.4\n",
      "[4.39, 4.52, 5.49, 6.36]\n",
      "i j xbar1 xbar2 Diff Diff_comp Result\n",
      "1 2 4.39 4.52 0.358  2.893 No Difference\n",
      "1 3 4.39 5.49 3.027  3.499 No Difference\n",
      "1 4 4.39 6.36 5.422  3.861 Yes - Difference\n",
      "2 3 4.52 5.49 2.670  2.893 No Difference\n",
      "2 4 4.52 6.36 5.064  3.499 Yes - Difference\n",
      "3 4 5.49 6.36 2.394  2.893 No Difference\n"
     ]
    },
    {
     "data": {
      "image/png": "[encoded data removed]",
      "text/plain": [
       "<Figure size 432x288 with 1 Axes>"
      ]
     },
     "metadata": {
      "needs_background": "light"
     },
     "output_type": "display_data"
    }
   ],
   "source": [
    "# Tukey's Procedure\n",
    "#\n",
    "# Step 1:  Calculate the standard error = sqrt(MS_error/n)\n",
    "\n",
    "std_error = np.sqrt(MS_error/n)\n",
    "print (\"Standard Error = %0.3f\" % std_error)\n",
    "\n",
    "# Step 2:  Order the means from smallest to largest\n",
    "\n",
    "print (\"Original Xbar = \",xbar)\n",
    "xbar_orig = xbar.copy()\n",
    "xbar.sort()\n",
    "print (\"Sorted Xbar = \",xbar)\n",
    "\n",
    "# Step 3:  Get the expected number of error bars (sem) between largest and smallest, for the number\n",
    "# of means to be compared (a).  For this, we need the studentized range table values q(alpha,dof_error,k) for k=2..a.\n",
    "# \n",
    "# http://www.real-statistics.com/statistics-tables/studentized-range-q-table/\n",
    "# For this problem, dof_error = 15, alpha = 0.05, k = 2,3,4,5\n",
    "# q = np.array([3.014,3.673,4.076,4.367])\n",
    "\n",
    "#from q_tukey import q_tukey\n",
    "\n",
    "n_means=len(xbar)\n",
    "q = q_tukey(n_means,dof_error,alpha)\n",
    "print (q)\n",
    "\n",
    "# Step 4:  Calculate W = q(k=5)*std_error\n",
    "\n",
    "W = q[n_means-2]*std_error\n",
    "\n",
    "print (\"W = %0.1f\" % W)\n",
    "\n",
    "# Step 5:  Make pair-wise comparisons\n",
    "\n",
    "print (list(xbar_orig))\n",
    "\n",
    "print (\"i j xbar1 xbar2 Diff Diff_comp Result\")\n",
    "for i in range(len(xbar)):\n",
    "    for j in range(len(xbar)):\n",
    "        if (xbar[j] > xbar[i]):\n",
    "            diff = (xbar[j] - xbar[i])/std_error\n",
    "            diff_comp = q[j-i-1]\n",
    "            if (diff>diff_comp):\n",
    "                Result = \"Yes - Difference\"\n",
    "            else:\n",
    "                Result = \"No Difference\"\n",
    "            iorig = list(xbar_orig).index(xbar[i])+1\n",
    "            jorig = list(xbar_orig).index(xbar[j])+1\n",
    "            print (\"%0.0f %0.0f %0.2f %0.2f %0.3f  %0.3f %s\" % (iorig,jorig,xbar[i],xbar[j],diff,diff_comp,Result))"
   ]
  },
  {
   "cell_type": "markdown",
   "metadata": {},
   "source": [
    "# Question 3\n",
    "\n",
    "The following data was reported on total Fe for four types of iron formation (1 = carbonate, 2 = silicate, 3 = magnetite, 4 = hematite).\n",
    "\n",
    "1:\t20.6\t28.1\t27.8\t27.0\t27.9\t25.2\t25.3\t27.1\t20.5\t31.2\n",
    "\n",
    "2:\t26.2\t24.0\t26.2\t20.2\t23.5\t34.0\t17.1\t26.8\t23.7\t24.7\n",
    "\n",
    "3:\t29.6\t34.0\t27.5\t29.4\t27.8\t26.2\t29.9\t29.5\t30.0\t35.9\n",
    "\n",
    "4:\t36.9\t44.2\t34.1\t30.3\t31.5\t33.1\t34.1\t32.9\t36.3\t25.6\n",
    "\n",
    "\n",
    "Carry out an analysis of variance F test at significance level 0.01. State the appropriate hypotheses.\n",
    "\n",
    "Summarize the results in an ANOVA table. (Round your answers two decimal places.)\n"
   ]
  },
  {
   "cell_type": "code",
   "execution_count": 14,
   "metadata": {},
   "outputs": [
    {
     "name": "stdout",
     "output_type": "stream",
     "text": [
      "                df     sum_sq     mean_sq          F    PR(>F)\n",
      "C(treatment)   3.0  520.67875  173.559583  11.066479  0.000027\n",
      "Residual      36.0  564.60100   15.683361        NaN       NaN\n",
      "ybar vector =  [26.07, 24.639999999999997, 29.979999999999997, 33.900000000000006]\n",
      "ybarbar =  28.647499999999997\n"
     ]
    },
    {
     "data": {
      "image/png": "[encoded data removed]",
      "text/plain": [
       "<Figure size 432x288 with 1 Axes>"
      ]
     },
     "metadata": {
      "needs_background": "light"
     },
     "output_type": "display_data"
    }
   ],
   "source": [
    "a = 4\n",
    "n = 10\n",
    "\n",
    "x_settings = [1,2,3,4]\n",
    "data_values = np.array([20.6,28.1,27.8,27.0,27.9,25.2,25.3,27.1,20.5,31.2,\n",
    "    26.2,24.0,26.2,20.2,23.5,34.0,17.1,26.8,23.7,24.7,\n",
    "    29.6,34.0,27.5,29.4,27.8,26.2,29.9,29.5,30.0,35.9,\n",
    "    36.9,44.2,34.1,30.3,31.5,33.1,34.1,32.9,36.3,25.6])\n",
    "\n",
    "df = create_df(a,n,x_settings,data_values)\n",
    "\n",
    "###################\n",
    "\n",
    "\n",
    "from statsmodels.formula.api import ols\n",
    "from statsmodels.stats.anova import anova_lm\n",
    "\n",
    "model = ols('value ~ C(treatment)',df).fit()\n",
    "anovaResults = anova_lm(model)\n",
    "\n",
    "print (anovaResults)\n",
    "\n",
    "#Let's plot things to see what it really looks like.\n",
    "\n",
    "MS_error = anovaResults['mean_sq'][1]\n",
    "\n",
    "sem = 3.0*np.sqrt(MS_error/n)\n",
    "\n",
    "sembar = [sem for i in range(a)]\n",
    "\n",
    "ybar = create_ybar(a,n,data_values)\n",
    "\n",
    "brash_plot(a,n,x_settings,ybar,sembar,df)"
   ]
  },
  {
   "cell_type": "markdown",
   "metadata": {},
   "source": [
    "# Question 4\n",
    "\n",
    "A study was carried out to compare the writing lifetimes of four premium brands of pens (factor A). It was thought that the writing surface (factor B) might affect lifetime, so three different surfaces were randomly selected. A writing machine was used to ensure that conditions were otherwise homogeneous (e.g., constant pressure and a fixed angle). The accompanying table shows the two lifetimes (min) obtained for each brand-surface combination.\n",
    "\n",
    "Writing Surface\t\n",
    "\n",
    "1\t2\t3\txi..\n",
    "\n",
    "Brand\n",
    "of Pen\t1\t\n",
    "\n",
    "708, 659\n",
    "713, 726\n",
    "660, 645\n",
    "4111\n",
    "\n",
    "2\t\n",
    "668, 685\n",
    "722, 740\n",
    "692, 720\n",
    "4227\n",
    "\n",
    "3\t\n",
    "659, 685\n",
    "666, 684\n",
    "678, 750\n",
    "4122\n",
    "\n",
    "4\t\n",
    "698, 650\n",
    "704, 666\n",
    "686, 733\n",
    "4137\n",
    "\n",
    "x.j.\t5412\t5621\t5564\t16,597\n",
    "      \n",
    "Carry out an appropriate ANOVA. (Use 𝛼 = 0.05. Round your answers to two decimal places.)"
   ]
  },
  {
   "cell_type": "code",
   "execution_count": 15,
   "metadata": {},
   "outputs": [
    {
     "name": "stdout",
     "output_type": "stream",
     "text": [
      "             df       sum_sq      mean_sq         F    PR(>F)\n",
      "C(A)        3.0  1400.125000   466.708333  0.685790  0.577753\n",
      "C(B)        2.0  2918.083333  1459.041667  2.143942  0.159919\n",
      "C(A):C(B)   6.0  8073.250000  1345.541667  1.977163  0.148332\n",
      "Residual   12.0  8166.500000   680.541667       NaN       NaN\n"
     ]
    }
   ],
   "source": [
    "xijk = np.array([[708,1,1],[659,1,1],[713,1,2],[726,1,2],[660,1,3],[645,1,3],\n",
    "                 [668,2,1],[685,2,1],[722,2,2],[740,2,2],[692,2,3],[720,2,3],\n",
    "                 [659,3,1],[685,3,1],[666,3,2],[684,3,2],[678,3,3],[750,3,3],\n",
    "                 [698,4,1],[650,4,1],[704,4,2],[666,4,2],[686,4,3],[733,4,3]])\n",
    "\n",
    "df = pd.DataFrame(xijk,columns=['value','A','B'])\n",
    "\n",
    "formula = 'value ~ C(A) + C(B) + C(A):C(B)'\n",
    "lm = ols(formula,df).fit()\n",
    "anovaResults = anova_lm(lm)\n",
    "print (anovaResults)"
   ]
  },
  {
   "cell_type": "code",
   "execution_count": 18,
   "metadata": {},
   "outputs": [
    {
     "name": "stdout",
     "output_type": "stream",
     "text": [
      "Critical F-value for Factor A = 3.49\n"
     ]
    }
   ],
   "source": [
    "alpha = 0.05\n",
    "\n",
    "fdist = stats.f(3,12)\n",
    "fhigh = fdist.ppf(1-alpha)\n",
    "\n",
    "print (\"Critical F-value for Factor A = %0.2f\" % (fhigh))\n"
   ]
  },
  {
   "cell_type": "code",
   "execution_count": 19,
   "metadata": {},
   "outputs": [
    {
     "name": "stdout",
     "output_type": "stream",
     "text": [
      "Critical F-value for Factor B = 3.89\n"
     ]
    }
   ],
   "source": [
    "fdist = stats.f(2,12)\n",
    "fhigh = fdist.ppf(1-alpha)\n",
    "\n",
    "print (\"Critical F-value for Factor B = %0.2f\" % (fhigh))"
   ]
  },
  {
   "cell_type": "code",
   "execution_count": 20,
   "metadata": {},
   "outputs": [
    {
     "name": "stdout",
     "output_type": "stream",
     "text": [
      "Critical F-value for AB Interaction = 3.00\n"
     ]
    }
   ],
   "source": [
    "fdist = stats.f(6,12)\n",
    "fhigh = fdist.ppf(1-alpha)\n",
    "\n",
    "print (\"Critical F-value for AB Interaction = %0.2f\" % (fhigh))"
   ]
  },
  {
   "cell_type": "code",
   "execution_count": null,
   "metadata": {},
   "outputs": [],
   "source": []
  },
  {
   "cell_type": "code",
   "execution_count": null,
   "metadata": {},
   "outputs": [],
   "source": []
  }
 ],
 "metadata": {
  "kernelspec": {
   "display_name": "Python 3",
   "language": "python",
   "name": "python3"
  },
  "language_info": {
   "codemirror_mode": {
    "name": "ipython",
    "version": 3
   },
   "file_extension": ".py",
   "mimetype": "text/x-python",
   "name": "python",
   "nbconvert_exporter": "python",
   "pygments_lexer": "ipython3",
   "version": "3.6.8"
  }
 },
 "nbformat": 4,
 "nbformat_minor": 4
}
