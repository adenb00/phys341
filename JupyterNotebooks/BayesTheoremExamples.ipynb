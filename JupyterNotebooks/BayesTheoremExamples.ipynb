{
 "cells": [
  {
   "cell_type": "markdown",
   "metadata": {},
   "source": [
    "# Bayes's Theorem\n",
    "\n",
    "The principal idea of Bayes's Theorem is one of conditional probabilities:\n",
    "\n",
    "A = the prior event (the thing that happens first)\n",
    "\n",
    "B = the posterior event (the thing that happens second, and may depend on A)\n",
    "\n",
    "P(A|B) = probability tha the prior condition existed, given an occurrence of the second event\n",
    "\n",
    "Bayes's Theorem states that:\n",
    "\n",
    "\\begin{equation}\n",
    "P(A|B) = \\frac{P(B|A) \\times P(A)}{P(B|A) \\times P(A) + P(B|\\tilde A) \\times P(\\tilde A)}\n",
    "\\end{equation}\n",
    "\n"
   ]
  },
  {
   "cell_type": "code",
   "execution_count": 124,
   "metadata": {},
   "outputs": [],
   "source": [
    "import matplotlib.pyplot as plt\n",
    "\n",
    "def draw_bayes_rectangle(pa, pba, pbnota):\n",
    "    \n",
    "    true_positive_rate = pa*pba\n",
    "    false_positive_rate = (1-pa)*pbnota\n",
    "    true_negative_rate = (1-pa)*(1-pbnota)\n",
    "    false_negative_rate = pa*(1-pba)\n",
    "    \n",
    "    print(\"True Positive Rate: %0.1f percent\" % (true_positive_rate*100.0))\n",
    "    print(\"False Positive Rate: %0.1f percent\" % (false_positive_rate*100.0))\n",
    "    print(\"True Negative Rate: %0.1f percent\" % (true_negative_rate*100.0))\n",
    "    print(\"False Negative Rate: %0.1f percent\" % (false_negative_rate*100.0))\n",
    "    x = []\n",
    "    y = []\n",
    "    x.append(0)\n",
    "    y.append(0)\n",
    "    x.append(1)\n",
    "    y.append(0)\n",
    "    x.append(1)\n",
    "    y.append(1)\n",
    "    x.append(0)\n",
    "    y.append(1)\n",
    "    x.append(0)\n",
    "    y.append(0)\n",
    "    plt.plot(x,y,'r-')\n",
    "    u = []\n",
    "    v = []\n",
    "    u.append(pa)\n",
    "    v.append(0)\n",
    "    u.append(pa)\n",
    "    v.append(1)\n",
    "    plt.plot(u,v,'r-')\n",
    "    r = []\n",
    "    s = []\n",
    "    r.append(0)\n",
    "    s.append(0)\n",
    "    r.append(0)\n",
    "    s.append(pba)\n",
    "    r.append(pa)\n",
    "    s.append(pba)\n",
    "    r.append(pa)\n",
    "    s.append(0)\n",
    "    r.append(0)\n",
    "    s.append(0)\n",
    "    plt.plot(r,s,'g-')\n",
    "    nlines = int(100*pba)\n",
    "    for i in range(nlines):\n",
    "        m = []\n",
    "        n = []\n",
    "        #print (pba*float(i+1)/nlines)\n",
    "        m.append(0)\n",
    "        n.append(pba*float(i+1)/nlines)\n",
    "        m.append(pa)\n",
    "        n.append(pba*float(i+1)/nlines)\n",
    "        plt.plot(m,n,'g-')\n",
    "    r = []\n",
    "    s = []\n",
    "    r.append(pa)\n",
    "    s.append(0)\n",
    "    r.append(pa)\n",
    "    s.append(pbnota)\n",
    "    r.append(1)\n",
    "    s.append(pbnota)\n",
    "    r.append(1)\n",
    "    s.append(0)\n",
    "    r.append(pa)\n",
    "    s.append(0)\n",
    "    plt.plot(r,s,'b-')\n",
    "    nlines = int(100*pbnota)\n",
    "    for i in range(nlines):\n",
    "        m = []\n",
    "        n = []\n",
    "        #print (pbnota*float(i+1)/nlines)\n",
    "        m.append(pa)\n",
    "        n.append(pbnota*float(i+1)/nlines)\n",
    "        m.append(1)\n",
    "        n.append(pbnota*float(i+1)/nlines)\n",
    "        plt.plot(m,n,'b-')"
   ]
  },
  {
   "cell_type": "code",
   "execution_count": 125,
   "metadata": {},
   "outputs": [
    {
     "name": "stdout",
     "output_type": "stream",
     "text": [
      "The probability of a person having breast cancer, given a positive test result, is 0.102\n"
     ]
    }
   ],
   "source": [
    "# Example 1:  Breast Cancer rates\n",
    "#\n",
    "# The probability of a person having breast cancer in the population = 0.01\n",
    "# The probability of a true positive (i.e. a person has breast cancer, and the test returns a positive result) = 0.90\n",
    "# The probability of a false positive (i.e. a person does NOT have breast cancer, but there is a positive result) = 0.08\n",
    "# \n",
    "# A = the person has breast cancer (prior to the test)\n",
    "# B = positive test result\n",
    "\n",
    "P_A = 0.01\n",
    "P_B_given_A = 0.90\n",
    "P_B_given_not_A = 0.08\n",
    "\n",
    "P_not_A = 1.0 - P_A\n",
    "\n",
    "P_A_given_B = (P_B_given_A * P_A)/(P_B_given_A * P_A + P_B_given_not_A * P_not_A)\n",
    "\n",
    "print(\"The probability of a person having breast cancer, given a positive test result, is %0.3f\" %P_A_given_B)"
   ]
  },
  {
   "cell_type": "code",
   "execution_count": 126,
   "metadata": {},
   "outputs": [
    {
     "name": "stdout",
     "output_type": "stream",
     "text": [
      "True Positive Rate: 0.9 percent\n",
      "False Positive Rate: 7.9 percent\n",
      "True Negative Rate: 91.1 percent\n",
      "False Negative Rate: 0.1 percent\n"
     ]
    },
    {
     "data": {
      "image/png": "[encoded data removed]",
      "text/plain": [
       "<Figure size 432x288 with 1 Axes>"
      ]
     },
     "metadata": {
      "needs_background": "light"
     },
     "output_type": "display_data"
    }
   ],
   "source": [
    "draw_bayes_rectangle(P_A, P_B_given_A, P_B_given_not_A)"
   ]
  },
  {
   "cell_type": "code",
   "execution_count": 127,
   "metadata": {},
   "outputs": [
    {
     "name": "stdout",
     "output_type": "stream",
     "text": [
      "The probability of a person getting COVID, given a previous vaccination, is 0.107\n",
      "Thus, the vaccine effectiveness is 0.893\n"
     ]
    }
   ],
   "source": [
    "# Example 2:  Vaccine Effectiveness\n",
    "#\n",
    "# The probability of a person being vaccinated, given that they have COVID = 0.200 \n",
    "# The vaccination rate is 70%\n",
    "# \n",
    "# A = the person was vaccinated (prior to getting COVID)\n",
    "# B = person is susceptible to getting COVID\n",
    "#\n",
    "# P_A_given_B = (P_B_given_A * P_A)/(P_B_given_A * P_A + P_B_given_not_A * P_not_A)\n",
    "#\n",
    "# Rearranging and solving for P_B_given_A:\n",
    "# \n",
    "# P_B_given_A = P_B_given_not_A * P_not_A * P_A_given_B / (P_A * (1.0 - P_A_given_B))\n",
    "\n",
    "P_A_given_B = 0.200  # probability that person was vaccinated, given that they are susceptible to COVID\n",
    "P_A = 0.70 #probability that person was vaccinated\n",
    "\n",
    "P_not_A = 1.0 - P_A\n",
    "P_B_given_not_A = 1.0 # probability that person is susceptible to gettting COVID, given they were NOT vaccinated.\n",
    "\n",
    "P_B_given_A = P_B_given_not_A * P_not_A * P_A_given_B / (P_A * (1.0 - P_A_given_B))\n",
    "\n",
    "print(\"The probability of a person getting COVID, given a previous vaccination, is %0.3f\" %P_B_given_A)\n",
    "\n",
    "print(\"Thus, the vaccine effectiveness is %0.3f\" %(1.0-P_B_given_A))"
   ]
  },
  {
   "cell_type": "code",
   "execution_count": 128,
   "metadata": {},
   "outputs": [
    {
     "name": "stdout",
     "output_type": "stream",
     "text": [
      "True Positive Rate: 7.5 percent\n",
      "False Positive Rate: 30.0 percent\n",
      "True Negative Rate: 0.0 percent\n",
      "False Negative Rate: 62.5 percent\n"
     ]
    },
    {
     "data": {
      "image/png": "[encoded data removed]",
      "text/plain": [
       "<Figure size 432x288 with 1 Axes>"
      ]
     },
     "metadata": {
      "needs_background": "light"
     },
     "output_type": "display_data"
    }
   ],
   "source": [
    "draw_bayes_rectangle(P_A, P_B_given_A, P_B_given_not_A)"
   ]
  },
  {
   "cell_type": "code",
   "execution_count": 129,
   "metadata": {},
   "outputs": [
    {
     "name": "stdout",
     "output_type": "stream",
     "text": [
      "The probability of a person having breast cancer, given a first positive test result, is 0.102\n",
      "The probability of a person having breast cancer, given a second positive test result, is 0.561\n",
      "True Positive Rate: 9.2 percent\n",
      "False Positive Rate: 7.2 percent\n",
      "True Negative Rate: 82.6 percent\n",
      "False Negative Rate: 1.0 percent\n"
     ]
    },
    {
     "data": {
      "image/png": "[encoded data removed]",
      "text/plain": [
       "<Figure size 432x288 with 1 Axes>"
      ]
     },
     "metadata": {
      "needs_background": "light"
     },
     "output_type": "display_data"
    }
   ],
   "source": [
    "# Example 3:  Breast Cancer rates, again\n",
    "#\n",
    "# Suppose that the first test comes back positive ... let's consider having a SECOND test  ... and maybe a third test.\n",
    "#\n",
    "# The probability of a person having breast cancer, in the general population = 0.01\n",
    "# The probability of a true positive (i.e. a person has breast cancer, and the second test returns a positive result) = 0.90\n",
    "# The probability of a false positive (i.e. a person does NOT have breast cancer, but there is a second positive result) = 0.08\n",
    "# \n",
    "# A = the person has breast cancer (prior to the test)\n",
    "# B = positive test result\n",
    "\n",
    "\n",
    "# First test\n",
    "P_A = 0.01\n",
    "P_B_given_A = 0.90\n",
    "P_B_given_not_A = 0.08\n",
    "\n",
    "P_not_A = 1.0 - P_A\n",
    "\n",
    "P_A_given_B = (P_B_given_A * P_A)/(P_B_given_A * P_A + P_B_given_not_A * P_not_A)\n",
    "\n",
    "print(\"The probability of a person having breast cancer, given a first positive test result, is %0.3f\" %P_A_given_B)\n",
    "\n",
    "# Second Test\n",
    "P_A = P_A_given_B # set equal to probability of actually having cancer, as determined from first test\n",
    "P_not_A = 1.0 - P_A\n",
    "\n",
    "P_A_given_B = (P_B_given_A * P_A)/(P_B_given_A * P_A + P_B_given_not_A * P_not_A)\n",
    "\n",
    "print(\"The probability of a person having breast cancer, given a second positive test result, is %0.3f\" %P_A_given_B)\n",
    "\n",
    "draw_bayes_rectangle(P_A, P_B_given_A, P_B_given_not_A)"
   ]
  },
  {
   "cell_type": "code",
   "execution_count": 130,
   "metadata": {},
   "outputs": [
    {
     "name": "stdout",
     "output_type": "stream",
     "text": [
      "The probability of a person having breast cancer, given a third positive test result, is 0.935\n"
     ]
    }
   ],
   "source": [
    "# Third Test\n",
    "P_A = P_A_given_B # set equal to probability of actually having cancer, as determined from second test\n",
    "P_not_A = 1.0 - P_A\n",
    "\n",
    "P_A_given_B = (P_B_given_A * P_A)/(P_B_given_A * P_A + P_B_given_not_A * P_not_A)\n",
    "\n",
    "print(\"The probability of a person having breast cancer, given a third positive test result, is %0.3f\" %P_A_given_B)"
   ]
  },
  {
   "cell_type": "code",
   "execution_count": 131,
   "metadata": {},
   "outputs": [
    {
     "name": "stdout",
     "output_type": "stream",
     "text": [
      "True Positive Rate: 50.5 percent\n",
      "False Positive Rate: 3.5 percent\n",
      "True Negative Rate: 40.4 percent\n",
      "False Negative Rate: 5.6 percent\n"
     ]
    },
    {
     "data": {
      "image/png": "[encoded data removed]",
      "text/plain": [
       "<Figure size 432x288 with 1 Axes>"
      ]
     },
     "metadata": {
      "needs_background": "light"
     },
     "output_type": "display_data"
    }
   ],
   "source": [
    "draw_bayes_rectangle(P_A, P_B_given_A, P_B_given_not_A)"
   ]
  },
  {
   "cell_type": "code",
   "execution_count": null,
   "metadata": {},
   "outputs": [],
   "source": []
  }
 ],
 "metadata": {
  "kernelspec": {
   "display_name": "Python 3",
   "language": "python",
   "name": "python3"
  },
  "language_info": {
   "codemirror_mode": {
    "name": "ipython",
    "version": 3
   },
   "file_extension": ".py",
   "mimetype": "text/x-python",
   "name": "python",
   "nbconvert_exporter": "python",
   "pygments_lexer": "ipython3",
   "version": "3.6.8"
  }
 },
 "nbformat": 4,
 "nbformat_minor": 4
}
