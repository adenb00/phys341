{
 "cells": [
  {
   "cell_type": "code",
   "execution_count": 1,
   "metadata": {},
   "outputs": [],
   "source": [
    "# Import the required packages, \n",
    "# with their conventional names \n",
    "import matplotlib.pyplot as plt \n",
    "import numpy as np \n",
    "import scipy.stats as stats"
   ]
  },
  {
   "cell_type": "markdown",
   "metadata": {},
   "source": [
    "We now turn to the situation where the mean of the population is NOT what we think it is.  In this case, we are hoping to detect this difference through our measurements.\n",
    "\n",
    "For this example, we will assume that $\\mu_{expected} = 100.0$ and that $\\mu_{actual} = 90.0$"
   ]
  },
  {
   "cell_type": "code",
   "execution_count": 3,
   "metadata": {},
   "outputs": [
    {
     "data": {
      "text/plain": [
       "[<matplotlib.lines.Line2D at 0x7fa2489040f0>]"
      ]
     },
     "execution_count": 3,
     "metadata": {},
     "output_type": "execute_result"
    },
    {
     "data": {
      "image/png": "[encoded data removed]",
      "text/plain": [
       "<Figure size 432x288 with 1 Axes>"
      ]
     },
     "metadata": {
      "needs_background": "light"
     },
     "output_type": "display_data"
    }
   ],
   "source": [
    "# Generate some data ... 5000 samples chosen from a Gaussian distribution with a mean of 100 and a sigma of 10.\n",
    "npts = 5000\n",
    "mu_actual = 90.0\n",
    "mu_expected = 100.0\n",
    "sigma = 10.0\n",
    "\n",
    "x_actual = stats.norm.rvs(size=npts,loc=mu_actual,scale=sigma)\n",
    "x_expected = stats.norm.rvs(size=npts,loc=mu_expected,scale=sigma)\n",
    "\n",
    "# calculate the sample mean, and the sample standard deviation (unbiased).\n",
    "xbar = np.mean(x_actual)\n",
    "stdev = np.std(x_actual,ddof=1)\n",
    "\n",
    "# create a plot that shows the histogram of the generated data, along with a curve of a Gaussian distribution based on the\n",
    "# expected mean.\n",
    "\n",
    "nbins = 100\n",
    "plt.hist(x_actual,nbins)\n",
    "\n",
    "bins=np.histogram(x_actual, bins=nbins)[1] #get the bin edges\n",
    "\n",
    "dx = (bins[len(bins)-1] - bins[0])/nbins\n",
    "\n",
    "amplitude = (npts*dx)/(np.sqrt(2*np.pi)*sigma)\n",
    "xa = -1.0*(bins-mu_actual)**2/(2.0*sigma**2)\n",
    "xe = -1.0*(bins-mu_expected)**2/(2.0*sigma**2)\n",
    "\n",
    "ya = amplitude*np.exp(xa)\n",
    "ye = amplitude*np.exp(xe)\n",
    "\n",
    "#plt.plot(bins,ya)\n",
    "plt.plot(bins,ye)\n"
   ]
  },
  {
   "cell_type": "markdown",
   "metadata": {},
   "source": [
    "As we can see from the plot, it is pretty easy to tell in this case that the distribution that we are sampling from has a different mean value that the one that we expect.  But, as the difference between the actual mean and the expected mean becomes smaller, it becomes much harder to tell."
   ]
  },
  {
   "cell_type": "markdown",
   "metadata": {},
   "source": [
    "We can understand what is going on better if again consider the notion of performing our experiment many times.  Each time, we will get a new value of $\\bar{x}$ from our sample.  We calculate a $z$ value for that sample, and then we can histogram all of the $z$ values, as before.  We now see that this histogram of the $z$ values is no longer a Gaussian with a centroid of zero, however, because we are sampling from a population that has a different mean than what we expect."
   ]
  },
  {
   "cell_type": "code",
   "execution_count": 3,
   "metadata": {},
   "outputs": [
    {
     "name": "stdout",
     "output_type": "stream",
     "text": [
      "Z critical =  -1.6448536269514729\n",
      "If we measure a value ABOVE z = z_critical, we will conclude that there is NOT a problem!!!\n"
     ]
    },
    {
     "data": {
      "text/plain": [
       "(array([ 0.,  0.,  0.,  0.,  0.,  0.,  0.,  0.,  0.,  0.,  0.,  0.,  0.,\n",
       "         0.,  0.,  0.,  0.,  0.,  0.,  0.,  0.,  0.,  0.,  0.,  0.,  0.,\n",
       "         0.,  0.,  0.,  0.,  0.,  0.,  0.,  0.,  0.,  0.,  0.,  0.,  0.,\n",
       "         0.,  0.,  0.,  0.,  0.,  0.,  0.,  0.,  0.,  0.,  0.,  0.,  0.,\n",
       "         0.,  0.,  0.,  0.,  0.,  9., 22., 13., 20., 14., 22., 19., 15.,\n",
       "        19., 16., 14., 10.,  4., 10., 10., 10.,  7., 10.,  4.,  8.,  5.,\n",
       "         5.,  7.,  2.,  1.,  4.,  5.,  1.,  2.,  1.,  0.,  1.,  1.,  1.,\n",
       "         0.,  1.,  0.,  3.,  1.,  1.,  0.,  2.,  2.]),\n",
       " array([-5.14063763e+00, -5.07948534e+00, -5.01833305e+00, -4.95718077e+00,\n",
       "        -4.89602848e+00, -4.83487619e+00, -4.77372390e+00, -4.71257161e+00,\n",
       "        -4.65141932e+00, -4.59026703e+00, -4.52911475e+00, -4.46796246e+00,\n",
       "        -4.40681017e+00, -4.34565788e+00, -4.28450559e+00, -4.22335330e+00,\n",
       "        -4.16220102e+00, -4.10104873e+00, -4.03989644e+00, -3.97874415e+00,\n",
       "        -3.91759186e+00, -3.85643957e+00, -3.79528729e+00, -3.73413500e+00,\n",
       "        -3.67298271e+00, -3.61183042e+00, -3.55067813e+00, -3.48952584e+00,\n",
       "        -3.42837356e+00, -3.36722127e+00, -3.30606898e+00, -3.24491669e+00,\n",
       "        -3.18376440e+00, -3.12261211e+00, -3.06145983e+00, -3.00030754e+00,\n",
       "        -2.93915525e+00, -2.87800296e+00, -2.81685067e+00, -2.75569838e+00,\n",
       "        -2.69454609e+00, -2.63339381e+00, -2.57224152e+00, -2.51108923e+00,\n",
       "        -2.44993694e+00, -2.38878465e+00, -2.32763236e+00, -2.26648008e+00,\n",
       "        -2.20532779e+00, -2.14417550e+00, -2.08302321e+00, -2.02187092e+00,\n",
       "        -1.96071863e+00, -1.89956635e+00, -1.83841406e+00, -1.77726177e+00,\n",
       "        -1.71610948e+00, -1.65495719e+00, -1.59380490e+00, -1.53265262e+00,\n",
       "        -1.47150033e+00, -1.41034804e+00, -1.34919575e+00, -1.28804346e+00,\n",
       "        -1.22689117e+00, -1.16573889e+00, -1.10458660e+00, -1.04343431e+00,\n",
       "        -9.82282020e-01, -9.21129732e-01, -8.59977443e-01, -7.98825155e-01,\n",
       "        -7.37672867e-01, -6.76520578e-01, -6.15368290e-01, -5.54216001e-01,\n",
       "        -4.93063713e-01, -4.31911425e-01, -3.70759136e-01, -3.09606848e-01,\n",
       "        -2.48454559e-01, -1.87302271e-01, -1.26149983e-01, -6.49976943e-02,\n",
       "        -3.84540590e-03,  5.73068825e-02,  1.18459171e-01,  1.79611459e-01,\n",
       "         2.40763748e-01,  3.01916036e-01,  3.63068324e-01,  4.24220613e-01,\n",
       "         4.85372901e-01,  5.46525190e-01,  6.07677478e-01,  6.68829766e-01,\n",
       "         7.29982055e-01,  7.91134343e-01,  8.52286632e-01,  9.13438920e-01,\n",
       "         9.74591208e-01]),\n",
       " <a list of 100 Patch objects>)"
      ]
     },
     "execution_count": 3,
     "metadata": {},
     "output_type": "execute_result"
    },
    {
     "data": {
      "image/png": "[encoded data removed]",
      "text/plain": [
       "<Figure size 432x288 with 1 Axes>"
      ]
     },
     "metadata": {
      "needs_background": "light"
     },
     "output_type": "display_data"
    }
   ],
   "source": [
    "sem = sigma/np.sqrt(npts)\n",
    "alpha = 0.05\n",
    "zCritical = stats.norm.ppf(alpha)\n",
    "xbarLower = mu_expected + zCritical*sem\n",
    "\n",
    "print(\"Z critical = \",zCritical)\n",
    "print(\"If we measure a value ABOVE z = z_critical, we will conclude that there is NOT a problem!!!\")\n",
    "\n",
    "# We will take a sample of 3000 points from a Gaussian distribution with mu_actual=99.5 and sigma=10.0, \n",
    "# and each time we do this, we will calculate xbar.  Then, we will calculate the z value corresponding \n",
    "# to that value of xbar.   Finally, we will create a histogram of these z-values.\n",
    "\n",
    "mu_actual = 99.7\n",
    "\n",
    "xbararray = []\n",
    "\n",
    "# perform the experiment 10000 times\n",
    "for i in range(1000):\n",
    "    x = stats.norm.rvs(size=npts,loc=mu_actual,scale=sigma)\n",
    "    xbararray.append(np.mean(x))\n",
    "    \n",
    "xbararray = np.array(xbararray)\n",
    "\n",
    "# IMPORTANT!!! When we calculate the z value, we do so by comparing to the EXPECTED mean, mu_expected!!!\n",
    "zscorearray = (xbararray-mu_expected)/sem\n",
    "        \n",
    "zhigh = zscorearray[(zscorearray>zCritical)]\n",
    "\n",
    "bins=np.histogram(np.hstack((zscorearray,zhigh)), bins=nbins)[1] #get the bin edges\n",
    "\n",
    "plt.hist(zscorearray,bins)\n",
    "plt.hist(zhigh,bins)"
   ]
  },
  {
   "cell_type": "markdown",
   "metadata": {},
   "source": [
    "The area shown in orange in the plot above corresponds to the probability that we have measured a value of z above the (alpha) critical value, and thus will conclude that there is NOT a problem (i.e. that our data is consistent with $\\mu = 100.0$).  This probability is the TYPE II Error Probability, $\\beta$.\n",
    "\n",
    "In order to calculate this probability, $\\beta$, we need the integral of the z distribution that corresponds to $\\mu_{actual}$.  But, we do NOT know what $\\mu_{actual}$ is!!!  So, we can only calculate $\\beta$ as a function of $\\mu_{actual}$."
   ]
  },
  {
   "cell_type": "code",
   "execution_count": 4,
   "metadata": {},
   "outputs": [
    {
     "name": "stdout",
     "output_type": "stream",
     "text": [
      "mu_actual_guess, beta =  [99.4, 99.5, 99.60000000000001, 99.7, 99.80000000000001, 99.9] [0.0046913329311728535, 0.029333518278475523, 0.11829096822166019, 0.3168709569199907, 0.591202780206151, 0.8258127383820718]\n"
     ]
    },
    {
     "data": {
      "image/png": "[encoded data removed]",
      "text/plain": [
       "<Figure size 432x288 with 6 Axes>"
      ]
     },
     "metadata": {
      "needs_background": "light"
     },
     "output_type": "display_data"
    },
    {
     "data": {
      "image/png": "[encoded data removed]",
      "text/plain": [
       "<Figure size 432x288 with 1 Axes>"
      ]
     },
     "metadata": {
      "needs_background": "light"
     },
     "output_type": "display_data"
    }
   ],
   "source": [
    "# IMPORTANT!!! When we calculate the z value, we do so by comparing to the EXPECTED mean, mu_expected!!!\n",
    "\n",
    "fig, axs = plt.subplots(2, 3)\n",
    "\n",
    "mu_actual_guess = []\n",
    "beta = []\n",
    "for i in range(6):\n",
    "    yp = int(i%3)\n",
    "    xp = int(i/3)\n",
    "    mu_actual_guess.append(99.4 + i*0.1)\n",
    "    \n",
    "    xbararray = []\n",
    "\n",
    "    # perform the experiment 1000 times\n",
    "    for j in range(1000):\n",
    "        x = stats.norm.rvs(size=npts,loc=mu_actual_guess[i],scale=sigma)\n",
    "        xbararray.append(np.mean(x))\n",
    "    \n",
    "    xbararray = np.array(xbararray)\n",
    "\n",
    "    zscorearray = (xbararray-mu_actual_guess[i])/sem\n",
    "\n",
    "    xbar_alpha = mu_expected + zCritical*sem\n",
    "    zbeta_critical = (xbar_alpha - mu_actual_guess[i])/sem\n",
    "        \n",
    "    zhigh = zscorearray[(zscorearray>zbeta_critical)]\n",
    "\n",
    "    bins=np.histogram(np.hstack((zscorearray,zhigh)), bins=nbins)[1] #get the bin edges\n",
    "\n",
    "    axs[xp,yp].hist(zscorearray,bins)\n",
    "    axs[xp,yp].hist(zhigh,bins)\n",
    "\n",
    "    beta.append(1.0 - stats.norm.cdf(zbeta_critical))\n",
    "    \n",
    "fig, axs = plt.subplots(1,1)\n",
    "axs.plot(mu_actual_guess,beta)\n",
    "    \n",
    "print(\"mu_actual_guess, beta = \",mu_actual_guess,beta)"
   ]
  },
  {
   "cell_type": "code",
   "execution_count": 5,
   "metadata": {},
   "outputs": [
    {
     "name": "stdout",
     "output_type": "stream",
     "text": [
      "-1.6448536269514729 2.3263478740408408 10.0 5.0\n",
      "N =  63.081765445934415\n"
     ]
    }
   ],
   "source": [
    "# Step 1:  Choose a value of alpha that you can live with\n",
    "\n",
    "alpha = 0.05\n",
    "\n",
    "# Step 2:  Choose a value of beta that you can live with\n",
    "\n",
    "beta = 0.01\n",
    "\n",
    "# Step 3:  Choose a sensitivity that you want to be able to detect - delta(mu)\n",
    "\n",
    "delta_mu = 5.0\n",
    "\n",
    "# Step 4:  Calculate z_alpha\n",
    "\n",
    "z_alpha = stats.norm.ppf(alpha)\n",
    "\n",
    "# Step 5:  Calculate z_beta\n",
    "\n",
    "z_beta = stats.norm.ppf(1-beta)\n",
    "\n",
    "# Step 6:  Calculate N\n",
    "\n",
    "N = (sigma*(z_beta-z_alpha)/delta_mu)**2\n",
    "\n",
    "print (z_alpha,z_beta,sigma,delta_mu)\n",
    "\n",
    "print(\"N = \",N)"
   ]
  },
  {
   "cell_type": "code",
   "execution_count": 25,
   "metadata": {},
   "outputs": [
    {
     "name": "stdout",
     "output_type": "stream",
     "text": [
      "Nobs =  17442.872915839584\n",
      "Delta_mu =  0.3000004599112046\n"
     ]
    }
   ],
   "source": [
    "from statsmodels.stats import power\n",
    "\n",
    "Np = power.tt_ind_solve_power(effect_size = delta_mu/sigma, alpha=alpha, power=1-beta)\n",
    "\n",
    "print (\"Nobs = \",Np)\n",
    "\n",
    "effect_size = power.tt_ind_solve_power(alpha=alpha, power=1-beta, nobs1=Np)\n",
    "\n",
    "print (\"Delta_mu = \",effect_size*sigma)"
   ]
  },
  {
   "cell_type": "code",
   "execution_count": 24,
   "metadata": {},
   "outputs": [
    {
     "name": "stdout",
     "output_type": "stream",
     "text": [
      "Nobs =  6869.82859639288 6869.508035577523\n",
      "Delta_mu =  0.30000732470353164\n"
     ]
    }
   ],
   "source": [
    "from statsmodels.stats import power\n",
    "\n",
    "Np = power.tt_ind_solve_power(effect_size = np.sqrt(2.0)*delta_mu/sigma, alpha=2.0*alpha, power=1-beta)\n",
    "\n",
    "print (\"Nobs = \",Np,N)\n",
    "\n",
    "effect_size = power.tt_ind_solve_power(alpha=2.0*alpha, power=1-beta, nobs1=N)\n",
    "\n",
    "print (\"Delta_mu = \",effect_size*sigma/np.sqrt(2))"
   ]
  },
  {
   "cell_type": "code",
   "execution_count": null,
   "metadata": {},
   "outputs": [],
   "source": []
  }
 ],
 "metadata": {
  "kernelspec": {
   "display_name": "Python 3",
   "language": "python",
   "name": "python3"
  },
  "language_info": {
   "codemirror_mode": {
    "name": "ipython",
    "version": 3
   },
   "file_extension": ".py",
   "mimetype": "text/x-python",
   "name": "python",
   "nbconvert_exporter": "python",
   "pygments_lexer": "ipython3",
   "version": "3.6.8"
  }
 },
 "nbformat": 4,
 "nbformat_minor": 4
}
